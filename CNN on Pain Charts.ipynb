{
 "cells": [
  {
   "cell_type": "markdown",
   "metadata": {},
   "source": [
    "# Pain Charts classification with CNN\n",
    "\n",
    "Idea: Creation of a simple a classifier for the groups found in Boudreau et al 2018\n",
    "\n",
    "- Data from Patellofemoral Pain Patients\n",
    "- Groups defined by a unsupervised cluster classfication (K-means)\n",
    "\n",
    "Method: Application of a CNN with a simple architecture and build up from here\n",
    "     \n",
    "Reference: Boudreau, S.A., Royo, A.C., Matthews, M. et al. Distinct patterns of variation in the distribution of knee pain. Sci Rep 8, 16522 (2018). www.nature.com/articles/s41598-018-34950-2"
   ]
  },
  {
   "cell_type": "code",
   "execution_count": 1,
   "metadata": {},
   "outputs": [
    {
     "name": "stderr",
     "output_type": "stream",
     "text": [
      "Using TensorFlow backend.\n"
     ]
    }
   ],
   "source": [
    "#Import of the the main \n",
    "import sklearn\n",
    "from sklearn.decomposition import PCA\n",
    "from sklearn.model_selection import train_test_split\n",
    "import numpy as np\n",
    "import glob\n",
    "import cv2\n",
    "\n",
    "\n",
    "import tensorflow as tf\n",
    "\n",
    "from keras import layers\n",
    "from keras.layers import Input, Add, Dense, Activation,ZeroPadding2D, ZeroPadding1D, BatchNormalization, Flatten, Conv1D, Conv2D, AveragePooling2D, AveragePooling1D,MaxPooling2D, MaxPooling1D, GlobalMaxPooling1D,GlobalMaxPooling2D\n",
    "from keras.models import Model, load_model\n",
    "from keras.preprocessing import image\n",
    "from keras.utils import layer_utils, to_categorical   \n",
    "from keras.utils.data_utils import get_file\n",
    "from keras.applications.imagenet_utils import preprocess_input\n",
    "\n",
    "from IPython.display import SVG\n",
    "from keras.utils.vis_utils import model_to_dot\n",
    "from keras.utils import plot_model\n",
    "from keras.initializers import glorot_uniform\n",
    "import scipy.misc\n",
    "from matplotlib.pyplot import imshow\n",
    "%matplotlib inline\n",
    "import lmdb\n",
    "import keras.backend as K\n",
    "K.set_image_data_format('channels_last')\n",
    "K.set_learning_phase(1)"
   ]
  },
  {
   "cell_type": "code",
   "execution_count": 2,
   "metadata": {},
   "outputs": [
    {
     "name": "stdout",
     "output_type": "stream",
     "text": [
      "Number of files imported is 299\n"
     ]
    }
   ],
   "source": [
    "# Let's import the file names from our dataset\n",
    "fileNames = glob.glob(r'C:\\Users\\Albert\\Documents\\GitHub\\PainCharts\\data\\*.png')\n",
    "print('Number of files imported is',len(fileNames))\n",
    "kernel = np.array([[0,1,0],[1,1,1],[0,1,0]],np.uint8)\n",
    "binIms = []   \n",
    "PainChartList = []\n",
    "\n",
    "for fileName in fileNames:\n",
    "    im = cv2.imread(fileName)\n",
    "    binIm = np.zeros(np.shape(im)[0:2])\n",
    "    #Creating a mask from the pain Image, this will be the binarized version of the image\n",
    "    binIm[(im[:,:,2]>150) & (im[:,:,0]==0)] = 1\n",
    "    #Open the pain region so small empty spaces within the pain region are filled\n",
    "    binIm = cv2.morphologyEx(binIm, cv2.MORPH_OPEN, kernel)\n",
    "    #Saving images in a List \n",
    "    PainChartList.append(binIm)"
   ]
  },
  {
   "cell_type": "code",
   "execution_count": 3,
   "metadata": {},
   "outputs": [],
   "source": [
    "y = np.loadtxt('C:/Users/Albert/Documents/GitHub/classesK4')"
   ]
  },
  {
   "cell_type": "code",
   "execution_count": 4,
   "metadata": {},
   "outputs": [],
   "source": [
    "arrayPain = np.asarray(PainChartList)\n",
    "arrayPainCropped = arrayPain[:,int(arrayPain.shape[1]/2):int(arrayPain.shape[1]),:]\n",
    "X_train, X_test, Y_train, Y_test = train_test_split(arrayPainCropped, y, test_size=0.3)\n",
    "X_trainR = np.expand_dims(X_train,3)\n",
    "X_testR = np.expand_dims(X_test,3)"
   ]
  },
  {
   "cell_type": "code",
   "execution_count": 5,
   "metadata": {},
   "outputs": [],
   "source": [
    "def PainNet(input_shape = (568, 447, 1), classes = 4):\n",
    "    \"\"\"\n",
    "    Implementation of PainNet the following architecture:\n",
    "    CONV2D -> BATCHNORM -> RELU -> MAXPOOL \n",
    "    \n",
    "    Arguments:\n",
    "    input_shape -- shape of the images of the dataset (?,568, 447, 1)\n",
    "    classes -- integer, number of classes (?,4)\n",
    "\n",
    "    Returns:\n",
    "    model -- a Model() instance in Keras\n",
    "    \"\"\"\n",
    "    \n",
    "    # Define the input as a tensor with shape input_shape\n",
    "    X_input = Input(input_shape)\n",
    "\n",
    "    \n",
    "    # Zero-Padding\n",
    "    X = ZeroPadding2D((3, 3))(X_input)\n",
    "    \n",
    "   \n",
    "    # Stage 1\n",
    "    X = Conv2D(32, (15,15), strides = (2, 2), name = 'conv1', kernel_initializer = glorot_uniform(seed=0))(X) #(228, 168, 64)\n",
    "    #print('Conv1:'+X.shape)\n",
    "    X = BatchNormalization(axis = 3, name = 'bn_conv1')(X)\n",
    "    X = Activation('relu')(X)\n",
    "    X = MaxPooling2D((3, 3), strides=(2, 2))(X) #114, 84, 64\n",
    "    #print('Pool1:',X.shape)\n",
    "    \n",
    "    # Stage 2\n",
    "    X = Conv2D(64, (7, 7), strides = (2, 2), name = 'conv2', kernel_initializer = glorot_uniform(seed=0))(X) #(50,35,128)\n",
    "    #print('Conv2:',X.shape)\n",
    "    X = BatchNormalization(axis = 3, name = 'bn_conv2')(X)\n",
    "    X = Activation('relu')(X)\n",
    "    X = MaxPooling2D((3, 3), strides=(2, 2))(X)\n",
    "    #print('Pool2:',X.shape)\n",
    "\n",
    "    ### END CODE HERE ###\n",
    "\n",
    "    # output layer\n",
    "    X = Flatten()(X)\n",
    "    X = Dense(classes, activation='softmax', name='fc' + str(classes), kernel_initializer = glorot_uniform(seed=0))(X)\n",
    "    \n",
    "    \n",
    "    # Create model\n",
    "    model = Model(inputs = X_input, outputs = X, name='PainNet')\n",
    "\n",
    "    return model"
   ]
  },
  {
   "cell_type": "code",
   "execution_count": 6,
   "metadata": {},
   "outputs": [],
   "source": [
    "model = PainNet(input_shape = X_trainR.shape[1:], classes = 4)\n",
    "model.compile(optimizer='adam', loss='categorical_crossentropy', metrics=['accuracy'])"
   ]
  },
  {
   "cell_type": "code",
   "execution_count": 7,
   "metadata": {},
   "outputs": [
    {
     "name": "stdout",
     "output_type": "stream",
     "text": [
      "number of training examples = 209\n",
      "number of test examples = 90\n",
      "X_trainR shape: (209, 568, 447, 1)\n",
      "Y_train shape: (209, 4)\n",
      "X_testR shape: (90, 568, 447, 1)\n",
      "Y_test shape: (90, 4)\n"
     ]
    }
   ],
   "source": [
    "Y_train = to_categorical(Y_train.T, num_classes=4)\n",
    "Y_test = to_categorical(Y_test.T, num_classes=4)\n",
    "print (\"number of training examples = \" + str(X_trainR.shape[0]))\n",
    "print (\"number of test examples = \" + str(X_testR.shape[0]))\n",
    "print (\"X_trainR shape: \" + str(X_trainR.shape))\n",
    "print (\"Y_train shape: \" + str(Y_train.shape))\n",
    "print (\"X_testR shape: \" + str(X_testR.shape))\n",
    "print (\"Y_test shape: \" + str(Y_test.shape))\n",
    "conv_layers = {}"
   ]
  },
  {
   "cell_type": "code",
   "execution_count": 8,
   "metadata": {},
   "outputs": [
    {
     "name": "stdout",
     "output_type": "stream",
     "text": [
      "Epoch 1/5\n",
      "209/209 [==============================] - 78s 371ms/step - loss: 2.7391 - accuracy: 0.4450\n",
      "Epoch 2/5\n",
      "209/209 [==============================] - 70s 335ms/step - loss: 1.6933 - accuracy: 0.4641\n",
      "Epoch 3/5\n",
      "209/209 [==============================] - 64s 304ms/step - loss: 1.4911 - accuracy: 0.5789\n",
      "Epoch 4/5\n",
      "209/209 [==============================] - 66s 318ms/step - loss: 1.4169 - accuracy: 0.4880\n",
      "Epoch 5/5\n",
      "209/209 [==============================] - 64s 306ms/step - loss: 1.2574 - accuracy: 0.5933\n"
     ]
    },
    {
     "data": {
      "text/plain": [
       "<keras.callbacks.callbacks.History at 0x2829947bf48>"
      ]
     },
     "execution_count": 8,
     "metadata": {},
     "output_type": "execute_result"
    }
   ],
   "source": [
    "model.fit(X_trainR,Y_train,epochs = 5, batch_size = 16, shuffle = True)"
   ]
  },
  {
   "cell_type": "code",
   "execution_count": null,
   "metadata": {},
   "outputs": [],
   "source": []
  }
 ],
 "metadata": {
  "kernelspec": {
   "display_name": "Python 3",
   "language": "python",
   "name": "python3"
  },
  "language_info": {
   "codemirror_mode": {
    "name": "ipython",
    "version": 3
   },
   "file_extension": ".py",
   "mimetype": "text/x-python",
   "name": "python",
   "nbconvert_exporter": "python",
   "pygments_lexer": "ipython3",
   "version": "3.7.4"
  }
 },
 "nbformat": 4,
 "nbformat_minor": 2
}
